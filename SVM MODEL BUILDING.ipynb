{
 "cells": [
  {
   "cell_type": "markdown",
   "id": "0b3afda5-eca3-4503-8ac2-b650cb7b047c",
   "metadata": {},
   "source": [
    "# INTRO\n",
    "•\tSupport Vector Machine is a supervised learning algorithm used for both classification and regression tasks.\r\n",
    "•\tIt is based on finding the hyperplane that best separates data into different classes (for classification).\r\n",
    "•\tFor regression tasks, SVM predicts a continuous value while minimizing error using a margin of tolerance.\r\n"
   ]
  },
  {
   "cell_type": "markdown",
   "id": "1c6e193d-6b75-4acb-ac3a-8c625ca45c9f",
   "metadata": {},
   "source": [
    "## SVM for Classification"
   ]
  },
  {
   "cell_type": "markdown",
   "id": "052132d2-8852-486b-a84a-f593e40c84ad",
   "metadata": {},
   "source": [
    "### Linear SVM\r\n",
    "•\tWorks when the data is linearly separable (i.e., classes can be separated with a straight line).\r\n",
    "•\tThe objective is to maximize the margin while minimizing classification errors.\r\n",
    "Example:\r\n"
   ]
  },
  {
   "cell_type": "code",
   "execution_count": 4,
   "id": "fb7bda63-9d05-4901-ba20-4285cb09d550",
   "metadata": {},
   "outputs": [
    {
     "name": "stdout",
     "output_type": "stream",
     "text": [
      "              precision    recall  f1-score   support\n",
      "\n",
      "           0       1.00      1.00      1.00        11\n",
      "           1       1.00      1.00      1.00        19\n",
      "\n",
      "    accuracy                           1.00        30\n",
      "   macro avg       1.00      1.00      1.00        30\n",
      "weighted avg       1.00      1.00      1.00        30\n",
      "\n"
     ]
    }
   ],
   "source": [
    "from sklearn.datasets import make_classification\n",
    "from sklearn.svm import SVC\n",
    "from sklearn.model_selection import train_test_split\n",
    "from sklearn.metrics import classification_report\n",
    "\n",
    "# Generate synthetic data\n",
    "X, y = make_classification(n_samples=100, n_features=4, n_classes=2, random_state=42)\n",
    "\n",
    "# Split the dataset\n",
    "X_train, X_test, y_train, y_test = train_test_split(X, y, test_size=0.3, random_state=42)\n",
    "\n",
    "# Train a linear SVM\n",
    "model = SVC(kernel='linear')\n",
    "model.fit(X_train, y_train)\n",
    "\n",
    "# Predict and evaluate\n",
    "y_pred = model.predict(X_test)\n",
    "print(classification_report(y_test, y_pred))\n"
   ]
  },
  {
   "cell_type": "markdown",
   "id": "75941839-ba6d-4535-b21a-f09fe96f0334",
   "metadata": {},
   "source": [
    "### Non-Linear SVM\r\n",
    "•\tWhen data is not linearly separable, SVM uses kernels to transform the data into higher dimensions where a linear hyperplane can separate it\n",
    "\n",
    "Example with RBF Kernel:\r\n"
   ]
  },
  {
   "cell_type": "code",
   "execution_count": 5,
   "id": "e7461a83-e4e4-473d-9238-22a2732e3d49",
   "metadata": {},
   "outputs": [
    {
     "name": "stdout",
     "output_type": "stream",
     "text": [
      "              precision    recall  f1-score   support\n",
      "\n",
      "           0       1.00      0.82      0.90        11\n",
      "           1       0.90      1.00      0.95        19\n",
      "\n",
      "    accuracy                           0.93        30\n",
      "   macro avg       0.95      0.91      0.93        30\n",
      "weighted avg       0.94      0.93      0.93        30\n",
      "\n"
     ]
    }
   ],
   "source": [
    "# Train a non-linear SVM with RBF kernel\n",
    "model_rbf = SVC(kernel='rbf', gamma=0.5, C=1)\n",
    "model_rbf.fit(X_train, y_train)\n",
    "\n",
    "# Predict and evaluate\n",
    "y_pred_rbf = model_rbf.predict(X_test)\n",
    "print(classification_report(y_test, y_pred_rbf))\n"
   ]
  },
  {
   "cell_type": "markdown",
   "id": "ad931de5-f4d7-4ef4-b8e9-1ba63d3b5e60",
   "metadata": {},
   "source": [
    "## SVM for Regression (SVR)\r\n",
    "•\tInstead of finding a hyperplane that separates classes, SVR finds a line or curve that fits the data within a certain margin of tolerance (ϵ).\r\n",
    "Example:\r\n"
   ]
  },
  {
   "cell_type": "code",
   "execution_count": 6,
   "id": "3393d8e9-d8ad-4047-b2c2-f8f23cf9d9d5",
   "metadata": {},
   "outputs": [
    {
     "data": {
      "text/plain": [
       "array([ 22.27402295,   3.82141876, -28.38591624,  12.45483586,\n",
       "       -19.06452274,  20.56081209, -18.54906124,  18.70722018,\n",
       "        20.00197444,  22.01463045,  22.15770927,  14.56610243,\n",
       "        21.61851459,  -9.29468803, -26.72742443,   4.01712033,\n",
       "       -17.30064179,  18.07114083,  21.8519751 ,  -8.64202112,\n",
       "        17.68903665,   4.23725497, -18.62545015,  22.29649684,\n",
       "        14.05864398,  15.92024829, -22.6083792 ,  -1.41040168,\n",
       "       -22.63597879, -27.96416503,  13.84386555,  14.41725856,\n",
       "        10.61025658, -20.63549937, -27.80051448,   8.22503465,\n",
       "       -12.5293163 ,  13.9850681 ,  22.16030283, -12.2383586 ,\n",
       "        13.97758971, -24.41526882,  14.85038822, -20.29019829,\n",
       "        -9.89686367, -16.07256954, -12.61241136, -23.70289966,\n",
       "        12.93496327,   8.68307912, -13.65286144,   0.35396033,\n",
       "        -9.89618362,  15.69458119, -15.81661837,  13.41643818,\n",
       "        13.01709171,  -7.86381268,  -9.91482852, -16.84868881,\n",
       "        12.78157463,  -9.54908282, -28.33415595, -24.93620097,\n",
       "       -25.22760019,  22.17129066, -21.19447451, -18.06098316,\n",
       "       -21.57498866,  21.85179047,  22.11719108, -25.89990796,\n",
       "       -25.02064802, -27.80597537, -27.11987188,  13.77927001,\n",
       "        22.14486412,   9.91794916,  11.84069601, -21.06486646,\n",
       "       -20.56164042,   4.80734481,   7.23532239, -26.87025941,\n",
       "        21.6666108 ,  -4.86523143, -18.7486246 ,  -0.44645411,\n",
       "       -28.3326742 ,  -5.83970904, -28.19262137,  17.84765564,\n",
       "         3.00599143, -19.7819514 , -18.45690889,   8.57076801,\n",
       "       -25.74165932, -25.28240796,  -2.97699501, -12.93251919])"
      ]
     },
     "execution_count": 6,
     "metadata": {},
     "output_type": "execute_result"
    }
   ],
   "source": [
    "from sklearn.svm import SVR\n",
    "\n",
    "# Generate synthetic regression data\n",
    "from sklearn.datasets import make_regression\n",
    "X, y = make_regression(n_samples=100, n_features=1, noise=0.1, random_state=42)\n",
    "\n",
    "# Train SVR\n",
    "svr_model = SVR(kernel='rbf', C=1.0, epsilon=0.1)\n",
    "svr_model.fit(X, y)\n",
    "\n",
    "# Predict\n",
    "y_pred = svr_model.predict(X)\n",
    "\n",
    "y_pred"
   ]
  }
 ],
 "metadata": {
  "kernelspec": {
   "display_name": "Python 3 (ipykernel)",
   "language": "python",
   "name": "python3"
  },
  "language_info": {
   "codemirror_mode": {
    "name": "ipython",
    "version": 3
   },
   "file_extension": ".py",
   "mimetype": "text/x-python",
   "name": "python",
   "nbconvert_exporter": "python",
   "pygments_lexer": "ipython3",
   "version": "3.12.4"
  }
 },
 "nbformat": 4,
 "nbformat_minor": 5
}
